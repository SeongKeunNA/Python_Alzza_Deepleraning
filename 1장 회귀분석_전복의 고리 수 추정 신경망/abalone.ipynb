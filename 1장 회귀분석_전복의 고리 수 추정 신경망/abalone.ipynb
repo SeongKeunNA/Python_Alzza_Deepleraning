{
 "cells": [
  {
   "cell_type": "markdown",
   "id": "674830db",
   "metadata": {},
   "source": [
    "## 1. 파이썬 모듈 불러들이기"
   ]
  },
  {
   "cell_type": "code",
   "execution_count": 1,
   "id": "cfe1ec2b",
   "metadata": {},
   "outputs": [],
   "source": [
    "import numpy as np\n",
    "import csv\n",
    "import time\n",
    "\n",
    "np.random.seed(1234)\n",
    "def randomize(): \n",
    "    np.random.seed(time.time())"
   ]
  },
  {
   "cell_type": "markdown",
   "id": "69739c1b",
   "metadata": {},
   "source": [
    "## 2. 하이퍼파라미터값의 정의"
   ]
  },
  {
   "cell_type": "code",
   "execution_count": 2,
   "id": "e1e4773b",
   "metadata": {},
   "outputs": [],
   "source": [
    "RND_MEAN = 0\n",
    "RND_STD = 0.0030\n",
    "\n",
    "LEARNING_RATE = 0.001"
   ]
  },
  {
   "cell_type": "markdown",
   "id": "fcd520f2",
   "metadata": {},
   "source": [
    "## 3. 실험용 메인 함수 정의"
   ]
  },
  {
   "cell_type": "code",
   "execution_count": 3,
   "id": "1e47c6b3",
   "metadata": {},
   "outputs": [],
   "source": [
    "def abalone_exec(epoch_count = 10, mb_size = 10, report=1): # (학습 횟수, 미니배치크기, 보고서작성주기)\n",
    "    load_abalone_dataset()\n",
    "    init_model()\n",
    "    train_and_test(epoch_count, mb_size, report)"
   ]
  },
  {
   "cell_type": "markdown",
   "id": "7ad5bda6",
   "metadata": {},
   "source": [
    "## 4. 데이터 적재 함수 정의"
   ]
  },
  {
   "cell_type": "code",
   "execution_count": 5,
   "id": "80b1a185",
   "metadata": {},
   "outputs": [],
   "source": [
    "def load_abalone_dataset():\n",
    "    with open('abalone.csv') as csvfile:\n",
    "        csvreader = csv.reader(csvfile)\n",
    "        next(csvreader, None) # 헤더 행을 무시하기 위함. None은 반복 가능 객체의 마지막 요소 이후 반환할 기본값\n",
    "        rows = []\n",
    "        for row in csvreader:\n",
    "            rows.append(row)\n",
    "            \n",
    "        global data, input_cnt, output_cnt # 다른 함수에서도 input벡터의 수와 output 벡터의 수를 사용하기 위함\n",
    "        input_cnt, output_cnt = 10, 1\n",
    "        data = np.zeros([len(rows), input_cnt+output_cnt]) # 전복의 성별 정보를 원핫벡터 표현으로 변환하고 나머지 정보를 복사하기 위함\n",
    "    \n",
    "        for n, row in enumerate(rows): \n",
    "            if row[0] == 'I': data[n, 0] = 1\n",
    "            if row[0] == 'M': data[n, 1] = 1\n",
    "            if row[0] == 'F': data[n, 2] = 1\n",
    "            data[n, 3:] = row[1:]"
   ]
  },
  {
   "cell_type": "markdown",
   "id": "c7d5cad7",
   "metadata": {},
   "source": [
    "## 5. 파라미터 초기화 함수 정의"
   ]
  },
  {
   "cell_type": "code",
   "execution_count": 6,
   "id": "afa01344",
   "metadata": {},
   "outputs": [],
   "source": [
    "def init_model():\n",
    "    global weight, bias, input_cnt, output_cnt\n",
    "    weight = np.random.normal(RND_MEAN, RND_STD, [input_cnt, output_cnt])\n",
    "    bias = np.zeros([output_cnt]) # 편향은 초기에 지나친 영향을 주어 학습에 역효과 없도록 0으로 초기화하여 생성"
   ]
  },
  {
   "cell_type": "markdown",
   "id": "3df37baa",
   "metadata": {},
   "source": [
    "## 6. 학습 및 평가 함수 정의"
   ]
  },
  {
   "cell_type": "code",
   "execution_count": 7,
   "id": "65ff30a3",
   "metadata": {},
   "outputs": [],
   "source": [
    "def train_and_test(epoch_count, mb_size, report):\n",
    "    step_count = arrange_data(mb_size) # 훈련용 데이터수를 미니배치로 나눈, 미니배치 반복횟수\n",
    "    test_x, test_y = get_test_data() # 테스트용 데이터셋은 변하지 않고 반복적으로 이용되므로 맨 처음 한 번만 호출함\n",
    "    \n",
    "    for epoch in range(epoch_count): # 학습 반복횟수\n",
    "        losses, accs = [], []\n",
    "        \n",
    "        for n in range(step_count): \n",
    "            train_x, train_y = get_train_data(mb_size, n)\n",
    "            loss, acc = run_train(train_x, train_y)\n",
    "            losses.append(loss)\n",
    "            accs.append(acc)\n",
    "            \n",
    "        if report > 0 and (epoch + 1) % report == 0:\n",
    "            acc = run_test(test_x, test_y)\n",
    "            print('Epoch {} loss={:5.3f}. accuracy = {:5.3f}/{:5.3f}'. # 전체 5글자 소수점이하 3글자\n",
    "                 format(epoch + 1, np.mean(losses), np.mean(accs), acc))\n",
    "            \n",
    "    final_acc = run_test(test_x, test_y)\n",
    "    print('\\nFinal Test: final accuracy = {:5.3f}'.format(final_acc))"
   ]
  },
  {
   "cell_type": "markdown",
   "id": "897f5b03",
   "metadata": {},
   "source": [
    "## 7. 학습 및 평가 데이터 획득 함수 정의"
   ]
  },
  {
   "cell_type": "code",
   "execution_count": 9,
   "id": "d18c45a5",
   "metadata": {},
   "outputs": [],
   "source": [
    "def arrange_data(mb_size):\n",
    "    global data, shuffle_map, test_begin_idx\n",
    "    shuffle_map = np.arange(data.shape[0]) # 데이터 수만큼의 일련번호를 발생시킴\n",
    "    np.random.shuffle(shuffle_map) # 무작위로 순서를 섞음\n",
    "    step_count = int(data.shape[0] * 0.8) // mb_size\n",
    "    test_begin_idx = step_count * mb_size\n",
    "    return step_count\n",
    "\n",
    "def get_test_data():\n",
    "    global data, shuffle_map, test_begin_idx, output_cnt\n",
    "    test_data = data[shuffle_map[test_begin_idx:]] # 무작위로 섞인 일련번호의 마지막 20% (테스트 데이터부분)을 추출함\n",
    "    return test_data[:, :-output_cnt], test_data[:, -output_cnt:] # test_x와 test_y로 나누어 반환, 자동으로 튜플로 묶임\n",
    "\n",
    "def get_train_data(mb_size, nth):\n",
    "    global data, shuffle_map, test_begin_idx, ouput_cnt\n",
    "    if nth == 0: \n",
    "        np.random.shuffle(shuffle_map[:test_begin_idx]) # get_test_data 함수와 마찬가지로 처음에 일련번호를 무작위로 섞음\n",
    "    train_data = data[shuffle_map[mb_size*nth:mb_size*(nth+1)]] # n번째 (nth) 훈련용 데이터 mb_size 개를 추출함\n",
    "    return train_data[:, :-output_cnt], train_data[:, -output_cnt:] # train_x와 train_y로 나누어 반환"
   ]
  },
  {
   "cell_type": "markdown",
   "id": "046e5344",
   "metadata": {},
   "source": [
    "## 8. 학습 실행 함수와 평가 실행 함수 정의"
   ]
  },
  {
   "cell_type": "code",
   "execution_count": 10,
   "id": "05973dc1",
   "metadata": {},
   "outputs": [],
   "source": [
    "def run_train(x, y):\n",
    "    output, aux_nn = forward_neuralnet(x)\n",
    "    loss, aux_pp = forward_postproc(output, y)\n",
    "    # aux_nn, aux_pp(neuralnet, postproc는 역전파에 필요한 정보 가운데 순전파 과정에서만 확보 가능하거나 보다 효율적으로 확보 가능한 것들\n",
    "    # forward_postproc은 output과 정답 y를 이용해 회귀 분석 문제의 성격에 맞춘 후처리 순전파작업 수행(순전파 후처리-postprocess)\n",
    "    accuracy = eval_accuracy(output, y) # 정확도\n",
    "    \n",
    "    G_loss = 1.0 # 손실 기울기, 처음엔 자기 자신으로 미분하므로 1\n",
    "    G_output = backprop_postproc(G_loss, aux_pp) # 순전파의 역순이므로 이름은 후처리지만 먼저 처리함\n",
    "    backprop_neuralnet(G_output, aux_nn) # 신경망 파라미터의 변화, 즉 학습이 실제로 일어나는 부분\n",
    "    \n",
    "    return loss, accuracy\n",
    "\n",
    "def run_test(x, y):\n",
    "    output, _ = forward_neuralnet(x)\n",
    "    accuracy = eval_accuracy(output, y)\n",
    "    return accuracy"
   ]
  },
  {
   "cell_type": "markdown",
   "id": "8a18bf94",
   "metadata": {},
   "source": [
    "## 9. 단층 퍼셉트론에 대한 순전파 및 역전파 함수 정의"
   ]
  },
  {
   "cell_type": "code",
   "execution_count": null,
   "id": "29acf71a",
   "metadata": {},
   "outputs": [],
   "source": [
    "def forward_neuralnet(x):\n",
    "    global weight, bias\n",
    "    output = np.matmul(x, weight) + bias\n",
    "    return output, x # 역전파를 위해 이용될 보조 정보로 x도 함께 반환 \n",
    "\n",
    "def backprop_neuralnet(G_output, x):\n",
    "    global weight, bias\n",
    "    g_output_w = x.transpose() # 가중치의 손실 기울기 구하는 과정에서 필요 (80p)\n",
    "    \n",
    "    G_w = np.matmul(g_output_w, G_output)\n",
    "    G_b = np.sum(G_output, axis = 0) # B_j는 Y_1j, Y_2j, ... Y_mj모두를 통해 L값에 영향을 미침\n",
    "    \n",
    "    weight -= LEARNING_RATE * G_w\n",
    "    bias -= LEARNING_RATE * G_b"
   ]
  },
  {
   "cell_type": "markdown",
   "id": "de1d8948",
   "metadata": {},
   "source": [
    "## 10. 후처리 과정에 대한 순전파 및 역전파 함수 정의"
   ]
  },
  {
   "cell_type": "code",
   "execution_count": null,
   "id": "975ac74a",
   "metadata": {},
   "outputs": [],
   "source": [
    "def forward_postproc(output, y):\n",
    "    diff = output - y\n",
    "    square = np.square(diff)\n",
    "    loss = np.mean(square)\n",
    "    return loss, diff\n",
    "\n",
    "def backprop_postproc(G_loss, diff): #s 순전파: 편차 -> 제곱 -> 평균/역전파: 평균 -> 제곱 ->편차\n",
    "    shape = diff.shape\n",
    "    \n",
    "    g_loss_square = np.ones(shape) / np.prod(shape) # 평균 연산에 대한 미분값, 1 / M * N, *np.prod(shape): shape의 모든 값을 곱함\n",
    "    g_square_diff = 2 * diff # square_ij = diff_ij ** 2이므로\n",
    "    g_diff_output = 1 # diff_ij = output_ij - y_ij이므로\n",
    "     \n",
    "    G_square = g_loss_square * G_loss\n",
    "    G_diff = g_square_diff * G_square\n",
    "    G_output = g_diff_output * G_diff\n",
    "    \n",
    "    return G_output"
   ]
  },
  {
   "cell_type": "markdown",
   "id": "8b12c396",
   "metadata": {},
   "source": [
    "## 10-1. backprop_postproc 함수 한 줄 코드"
   ]
  },
  {
   "cell_type": "code",
   "execution_count": 9,
   "id": "6fb2300f",
   "metadata": {},
   "outputs": [],
   "source": [
    "def backprop_postproc_oneline(G_loss, diff):\n",
    "    return 2 * diff / np.prrod(diff.shape) # G_loss, g_diff_output, np.ones(shape)가 모두 1이므로"
   ]
  },
  {
   "cell_type": "markdown",
   "id": "3d907583",
   "metadata": {},
   "source": [
    "## 11. 정확도 계산 함수 정의"
   ]
  },
  {
   "cell_type": "code",
   "execution_count": 10,
   "id": "ef6acaf7",
   "metadata": {},
   "outputs": [],
   "source": [
    "def eval_accuracy(output, y):\n",
    "    mdiff = np.mean(np.abs((output - y) / y)) # 정답과 오차의 비율, 오류율, 회귀 분석 문제에서 정확도를 정의하는 다른 시각도 있음\n",
    "    return 1 - mdiff"
   ]
  }
 ],
 "metadata": {
  "kernelspec": {
   "display_name": "Python 3 (ipykernel)",
   "language": "python",
   "name": "python3"
  },
  "language_info": {
   "codemirror_mode": {
    "name": "ipython",
    "version": 3
   },
   "file_extension": ".py",
   "mimetype": "text/x-python",
   "name": "python",
   "nbconvert_exporter": "python",
   "pygments_lexer": "ipython3",
   "version": "3.7.13"
  }
 },
 "nbformat": 4,
 "nbformat_minor": 5
}
