{
 "cells": [
  {
   "cell_type": "markdown",
   "id": "d72e7a83",
   "metadata": {},
   "source": [
    "## 1. 코드 재활용을 위한 아발로니 파일 실행시키기"
   ]
  },
  {
   "cell_type": "code",
   "execution_count": 1,
   "id": "3bb291f3",
   "metadata": {},
   "outputs": [],
   "source": [
    "%run ../chap01/abalone.ipynb"
   ]
  },
  {
   "cell_type": "markdown",
   "id": "97dfe546",
   "metadata": {},
   "source": [
    "## 2. 메인 함수 정의"
   ]
  },
  {
   "cell_type": "code",
   "execution_count": 2,
   "id": "dceff7f6",
   "metadata": {},
   "outputs": [],
   "source": [
    "def steel_exec(epoch_count=10, mb_size=10, report=1):\n",
    "    load_steel_datast()\n",
    "    init_model()\n",
    "    train_and_test(epoch_count, mb_size, report)"
   ]
  },
  {
   "cell_type": "markdown",
   "id": "caf95ef1",
   "metadata": {},
   "source": [
    "## 3. 데이터 적재 함수 정의"
   ]
  },
  {
   "cell_type": "code",
   "execution_count": 3,
   "id": "cb239956",
   "metadata": {},
   "outputs": [],
   "source": [
    "def load_steel_dataset():\n",
    "    with open('../../data/chap03/faults.csv') as csvfile:\n",
    "        csvreader = csv.reader(csvfile)\n",
    "        next(csvreader, None)\n",
    "        rows = []\n",
    "        for row in csvreader:\n",
    "            rows.append(row)\n",
    "    global data, input_cnt, output_cnt\n",
    "    input_cnt, output_cnt = 27, 7\n",
    "    data = np.asarray(rows, dtype='float32')"
   ]
  },
  {
   "cell_type": "markdown",
   "id": "eb8f97b5",
   "metadata": {},
   "source": [
    "## 4. 후처리 과정에 대한 순전파와 역전파 함수의 재정의"
   ]
  },
  {
   "cell_type": "code",
   "execution_count": 5,
   "id": "4d445b44",
   "metadata": {},
   "outputs": [],
   "source": [
    "def forward_postproc(output, y):\n",
    "    entropy = softmax_cross_entropy_with_logits(y, output)\n",
    "    loss = np.mean(entropy)\n",
    "    return loss, [y, output, entropy]\n",
    "\n",
    "def backprop_postproc(G_loss, aux):\n",
    "    y, output, entropy = aux\n",
    "    \n",
    "    g_loss_entropy = 1.0 / np.prod(entropy.shape)\n",
    "    g_entropy_output = softmax_cross_entropy_with_logits_derv(y, output)\n",
    "    \n",
    "    G_entropy = g_loss_entropy * G_loss\n",
    "    G_output = g_entropy_output * G_entropy\n",
    "    \n",
    "    return G_output"
   ]
  },
  {
   "cell_type": "markdown",
   "id": "50f63ebf",
   "metadata": {},
   "source": [
    "## 5. 정확도 계산 함수의 재정의"
   ]
  },
  {
   "cell_type": "code",
   "execution_count": 6,
   "id": "9c8fc949",
   "metadata": {},
   "outputs": [],
   "source": [
    "def eval_accuracy(output, y):\n",
    "    estimate = np.argmax(output, axis=1)\n",
    "    answer = np.argmax(y, axis = 1)\n",
    "    correct = np.equal(estimate, answer)\n",
    "    \n",
    "    return np.mean(correct)"
   ]
  },
  {
   "cell_type": "markdown",
   "id": "0c6c7764",
   "metadata": {},
   "source": [
    "## 6. 소프트맥스 관련 함수 정의"
   ]
  },
  {
   "cell_type": "code",
   "execution_count": null,
   "id": "99547306",
   "metadata": {},
   "outputs": [],
   "source": [
    "def softmax(x): # (N : 미니배치 크기(10), M : 출력벡터 크기(7))\n",
    "    max_elem = np.max(x, axis = 1) # 안전한 계산을 위해 최대항을 골라냄, (N, )\n",
    "    diff = (x.transpose() - max_elem).transpose() \n",
    "    \"\"\"\n",
    "    max_elem의 결과가 (N, ) 크기이고 행렬에서 벡터를 뺄 때는 넘파이 패키지가 행렬의 각 행에 대해 계산을 반복하는데,\n",
    "    여기에서는 각 열에 대한 반복 감산이 필요하기 때문에\n",
    "    transpose()함수를 이용해 행렬의 행과 열을 바꾸어 계산을 수행한 후 다시 원상 복귀 처리를 함, 밑에 지수 함수 처리도 마찬가지\n",
    "    \"\"\"\n",
    "    exp = np.exp(diff)\n",
    "    sum_exp = np.sum(exp, axis =1)\n",
    "    probs = (exp.transpose() / sum_exp).transpose()\n",
    "    return probs\n",
    "\n",
    "def softmax_derv(x, y):\n",
    "    mb_size, nom_size = "
   ]
  },
  {
   "cell_type": "code",
   "execution_count": 7,
   "id": "c890b43c",
   "metadata": {},
   "outputs": [
    {
     "name": "stdout",
     "output_type": "stream",
     "text": [
      "[[1 1 1]\n",
      " [4 4 4]]\n"
     ]
    }
   ],
   "source": [
    "a = np.array([[1, 2, 3], [4, 5, 6]])\n",
    "b = np.array([0,1,2])\n",
    "print(a - b)"
   ]
  },
  {
   "cell_type": "code",
   "execution_count": 23,
   "id": "2dafbf8c",
   "metadata": {},
   "outputs": [
    {
     "name": "stdout",
     "output_type": "stream",
     "text": [
      "a.t: \n",
      " [[1 2 3]\n",
      " [2 3 4]]\n",
      "np.max(a, axis = 1): \n",
      " [2 3 4]\n",
      "a.transpose() - np.max(a, axis = 1) \n",
      " [[-1 -1 -1]\n",
      " [ 0  0  0]]\n",
      "(a.transpose()-b).T \n",
      " [[-1  0]\n",
      " [-1  0]\n",
      " [-1  0]]\n"
     ]
    }
   ],
   "source": [
    "a = np.array([[1, 2], [2, 3], [3, 4]])\n",
    "b = np.max(a, axis = 1)\n",
    "c = a.transpose()-b\n",
    "print('a.t: \\n', a.transpose())\n",
    "print('np.max(a, axis = 1): \\n', b)\n",
    "print('a.transpose() - np.max(a, axis = 1) \\n', c)\n",
    "print('(a.transpose()-b).T \\n', c.transpose())"
   ]
  },
  {
   "cell_type": "code",
   "execution_count": 29,
   "id": "635f1415",
   "metadata": {},
   "outputs": [
    {
     "data": {
      "text/plain": [
       "(array([[1, 2],\n",
       "        [2, 3],\n",
       "        [3, 4]]),\n",
       " array([2, 3, 4]),\n",
       " array([[1, 2, 3],\n",
       "        [2, 3, 4]]))"
      ]
     },
     "execution_count": 29,
     "metadata": {},
     "output_type": "execute_result"
    }
   ],
   "source": [
    "a , np.max(a, axis= 1), a.transpose()"
   ]
  },
  {
   "cell_type": "code",
   "execution_count": 18,
   "id": "d8f61e98",
   "metadata": {},
   "outputs": [
    {
     "ename": "ValueError",
     "evalue": "operands could not be broadcast together with shapes (3,2) (3,) ",
     "output_type": "error",
     "traceback": [
      "\u001b[1;31m---------------------------------------------------------------------------\u001b[0m",
      "\u001b[1;31mValueError\u001b[0m                                Traceback (most recent call last)",
      "\u001b[1;32m~\\AppData\\Local\\Temp\\ipykernel_29940\\648572708.py\u001b[0m in \u001b[0;36m<module>\u001b[1;34m\u001b[0m\n\u001b[1;32m----> 1\u001b[1;33m \u001b[0mprint\u001b[0m\u001b[1;33m(\u001b[0m\u001b[0ma\u001b[0m \u001b[1;33m-\u001b[0m \u001b[0mb\u001b[0m\u001b[1;33m)\u001b[0m\u001b[1;33m\u001b[0m\u001b[1;33m\u001b[0m\u001b[0m\n\u001b[0m",
      "\u001b[1;31mValueError\u001b[0m: operands could not be broadcast together with shapes (3,2) (3,) "
     ]
    }
   ],
   "source": [
    "print(a - b)"
   ]
  }
 ],
 "metadata": {
  "kernelspec": {
   "display_name": "Python 3 (ipykernel)",
   "language": "python",
   "name": "python3"
  },
  "language_info": {
   "codemirror_mode": {
    "name": "ipython",
    "version": 3
   },
   "file_extension": ".py",
   "mimetype": "text/x-python",
   "name": "python",
   "nbconvert_exporter": "python",
   "pygments_lexer": "ipython3",
   "version": "3.7.13"
  }
 },
 "nbformat": 4,
 "nbformat_minor": 5
}
