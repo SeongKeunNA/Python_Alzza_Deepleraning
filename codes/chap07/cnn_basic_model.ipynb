{
 "cells": [
  {
   "cell_type": "markdown",
   "id": "c1bbb15e",
   "metadata": {},
   "source": [
    "# 7.10 구현하기: 간단한 합성곱 신경망 클래스"
   ]
  },
  {
   "cell_type": "markdown",
   "id": "153f8f64",
   "metadata": {},
   "source": [
    "## 7.10.1 기반 클래스 파일 실행시키기"
   ]
  },
  {
   "cell_type": "code",
   "execution_count": 2,
   "id": "f882d180",
   "metadata": {},
   "outputs": [],
   "source": [
    "%run ../chap06/adam_model.ipynb"
   ]
  },
  {
   "cell_type": "markdown",
   "id": "53cb2baf",
   "metadata": {},
   "source": [
    "## 7.10.2 CnnBasicModel 클래스 선언"
   ]
  },
  {
   "cell_type": "code",
   "execution_count": 3,
   "id": "aa843917",
   "metadata": {},
   "outputs": [],
   "source": [
    "class CnnBasicModel(AdamModel):\n",
    "    def __init__(self, name, dataset, hconfigs, show_maps = False):\n",
    "        if isinstanec(hconfigs, list) and \\\n",
    "        not isinstance(hconfigs[0], (list, int)): # hconfigs[0] 값의 유형을 검사하여(첫번째값이 list도 int도 아닌 경우?)\n",
    "                                                  # 경우에 따라 리스트 껍질을 한 번 더 씌움\n",
    "            hconfigs = [hconfigs]\n",
    "        self.show_maps = show_maps # 커널과 특징맵을 시각화 대상으로 포함할지 여부\n",
    "        self.need_maps = False # 현재 특징맵 수집이 필요한지 여부 (시각화단계)\n",
    "        self.kernals = [] # 커널 저장 리스트\n",
    "        \n",
    "        super(CnnBasicModel, self).__init__(name, dataset, hconfigs)\n",
    "        self.use_adam = True"
   ]
  },
  {
   "cell_type": "markdown",
   "id": "e85d098c",
   "metadata": {},
   "source": [
    "## 7.10.3 계층에 대한 파라미터 생성 메서드 재정의"
   ]
  },
  {
   "cell_type": "code",
   "execution_count": 4,
   "id": "16af8da0",
   "metadata": {},
   "outputs": [],
   "source": [
    "def cnn_basic_alloc_layer_param(self, input_shape, hconfig):\n",
    "    layer_type = get_layer_type(hconfig)\n",
    "    \n",
    "    m_name = 'alloc_{}_layer'.format(layer_type)\n",
    "    method = getattr(self, m_name)\n",
    "    pm, output_shape = method(input_shape, hconfig)\n",
    "    \n",
    "    return pm, output_shape\n",
    "\n",
    "CnnBasicModel.alloc_layer_param = cnn_basic_alloc_layer_param"
   ]
  },
  {
   "cell_type": "markdown",
   "id": "db92a2af",
   "metadata": {},
   "source": [
    "## 7.10.4 계층에 대한 순전파 메서드 재정의"
   ]
  },
  {
   "cell_type": "code",
   "execution_count": 5,
   "id": "d7785900",
   "metadata": {},
   "outputs": [],
   "source": [
    "def cnn_basic_forward_layer(self, x, hconfig, pm):\n",
    "    layer_type = get_layer_type(hconfig)\n",
    "    \n",
    "    m_name = 'forward_{}_layer'.format(layer_type)\n",
    "    method = getattr(self, m_name)\n",
    "    y, aux = method(x, hconfig, pm)\n",
    "    \n",
    "    return y, aux\n",
    "\n",
    "CnnBasicModel.forward_layer = cnn_basic_forward_layer"
   ]
  },
  {
   "cell_type": "markdown",
   "id": "13ca0cbd",
   "metadata": {},
   "source": [
    "## 7.10.5 계층에 대한 역전파 메서드 재정의"
   ]
  },
  {
   "cell_type": "code",
   "execution_count": 6,
   "id": "c333355c",
   "metadata": {},
   "outputs": [],
   "source": [
    "def cnn_basic_backprop_layer(self, G_y, hconfig, pm, aux):\n",
    "    layer_type = get_layer_type(hconfig)\n",
    "    \n",
    "    m_name = 'backprop_{}_layer'.format(layer_type)\n",
    "    method = getattr(self, m_name)\n",
    "    \n",
    "    G_input = method(G_y, hconfig, pm, aux)\n",
    "    \n",
    "    return G_input\n",
    "\n",
    "CnnBasicModel.backprop_layer = cnn_basic_backprop_layer "
   ]
  },
  {
   "cell_type": "markdown",
   "id": "567cbdfc",
   "metadata": {},
   "source": [
    "## 7.10.6 네 가지 계층에 대한 파라미터 생성 메서드 정의"
   ]
  },
  {
   "cell_type": "code",
   "execution_count": 7,
   "id": "e5971d6b",
   "metadata": {},
   "outputs": [],
   "source": [
    "def cnn_basic_alloc_full_layer(self, input_shape, hconfig):\n",
    "    input_cnt = np.prod(input_shape)\n",
    "    output_cnt = get_conf_param(hconfig, 'width', hconfig) # hconfig의 두 번째 딕셔너리에서 'width'값 즉, 출력 개수를 반환한다.\n",
    "                                                           # 이때 세 번째 변수는 다양한 예외 상황에서의 defalut_value이다.\n",
    "    \n",
    "    weight = np.random.normal(0, self.rand_std, [intput_cnt, output_cnt])\n",
    "    bias = np.zeros([output_cnt])\n",
    "    \n",
    "    return {'w':weight, 'b':bias}, [output_cnt] # 다차원 출력 형태를 갖는 새로운 계층들과 일관성을 갖도록 리스트에 반환([output_cnt])\n",
    "\n",
    "def cnn_basic_alloc_conv_layer(self, input_shape, hconfig):\n",
    "    assert len(input_shape) == 3\n",
    "    xh, xw, xchn = input_shape\n",
    "    kh, kw = get_conf_param_2d(hconfig, 'ksize')\n",
    "    ychn = get_conf_param(hconfig, 'chn')\n",
    "    \n",
    "    kernel = np.random.normal(0, self.rand_std, [kh, kw, xchn, ychn])\n",
    "    bias = np.zeros([ychn])\n",
    "\n",
    "    if self.show_maps: self.kernels.append(kernel)\n",
    "        \n",
    "    return {'k':kernel, 'b':bias}, [xh, xw, ychn]\n",
    "\n",
    "def cnn_basic_alloc_pool_layer(self, input_shape, hconfig):\n",
    "    assert len(input_shape) == 3\n",
    "    xh, xw, xchn = input_shape\n",
    "    sh, sw = get_conf_param_2d(hconfig, 'stride')\n",
    "    \n",
    "    assert xh % sh == 0\n",
    "    assert xw % sw == 0\n",
    "    \n",
    "    return {}, [xh//sh, xw//sw, xchn]\n",
    "\n",
    "CnnBasicModel.alloc_full_layer = cnn_basic_alloc_full_layer\n",
    "CnnBasicModel.alloc_conv_layer = cnn_basic_alloc_conv_layer\n",
    "CnnBasicModel.alloc_max_layer = cnn_basic_alloc_pool_layer\n",
    "CnnBasicModel.alloc_avg_layer = cnn_basic_alloc_pool_layer"
   ]
  },
  {
   "cell_type": "markdown",
   "id": "86310cf9",
   "metadata": {},
   "source": [
    "## 7.10.7 은닉 계층 구성 정보 접근을 위한 보조 함수 정의"
   ]
  },
  {
   "cell_type": "code",
   "execution_count": 8,
   "id": "a44caf40",
   "metadata": {},
   "outputs": [],
   "source": [
    "def get_layer_type(hconfig):\n",
    "    if not isinstance(hconfig, list): return 'full'\n",
    "    return hconfig[0]\n",
    "\n",
    "def get_conf_param(hconfig, key, defval = None):\n",
    "    if not isinstance(hconfig, list): return defval\n",
    "    if len(hconfig) <= 1: return defval\n",
    "    if not key in hconfig[1]: return defval\n",
    "    return hconfig[1][key]\n",
    "\n",
    "def get_conf_param_2d(hconfig, key, defval = None):\n",
    "    if len(hconfig) <= 1: return defval\n",
    "    if not key in hconfig[1]: return defval\n",
    "    if isinstance(val, list): return val\n",
    "    return [val, val]"
   ]
  },
  {
   "cell_type": "markdown",
   "id": "4abe6cf0",
   "metadata": {},
   "source": [
    "## 7.10.8 완전 연결 계층에 대한 순전파 메서드 정의"
   ]
  },
  {
   "cell_type": "code",
   "execution_count": 9,
   "id": "ced315a6",
   "metadata": {},
   "outputs": [],
   "source": [
    "def cnn_basic_forward_full_layer(self, x, hconfig, pm):\n",
    "    if pm is None: return x, None # GAN에서 출력 계층의 동작을 무력화해야 하는 경우를 지원하기 위한 것\n",
    "    \n",
    "    x_org_shape = x.shape # # 역전파에서 원래의 입력 형태가 필요하므로\n",
    "    \n",
    "    if len(x.shape) != 2: # 입력이 2차원 형태가 아닌 경우,\n",
    "        mb_size = x.shape[0] \n",
    "        x = x.reshape([mb_size, -1]) # 미니배치 크기 x 나머지로 차원 축소시킴\n",
    "        \n",
    "    affine = np.matmul(x, pm['w']) + pm['b']\n",
    "    y = self.activate(affine, hconfig)\n",
    "    \n",
    "    return y, [x, y, x_org_shape]\n",
    "\n",
    "CnnBasicModel.forward_full_layer = cnn_basic_forward_full_layer"
   ]
  },
  {
   "cell_type": "markdown",
   "id": "ed6e4655",
   "metadata": {},
   "source": [
    "## 7.10.9 완전 연결 계층에 대한 역전파 메서드 정의"
   ]
  },
  {
   "cell_type": "code",
   "execution_count": 10,
   "id": "9fcd8c74",
   "metadata": {},
   "outputs": [],
   "source": [
    "def cnn_basic_backprop_full_layer(self, G_y, hconfig, pm, aux):\n",
    "    if pm is None: return G_y # GAN 모델을 처리할 때 출력 계층의 동작을 무력화하기 위함\n",
    "    \n",
    "    x, y, x_org_shape = aux\n",
    "    \n",
    "    G_affine = self.activate_derv(G_y, y, hconfig) # 비선형 활성화 함수의 역전파 처리를 수행하는 함수 호출\n",
    "    \n",
    "    g_affine_weight = x.transpose()\n",
    "    g_affine_input = pm['w'].transpose()\n",
    "    \n",
    "    G_weight = np.matmul(g_affine_weight, G_affine)\n",
    "    G_bias = np.sum(G_affine, axis = 0)\n",
    "    G_input = np.matmul(G_affine, g_affine_input)\n",
    "    \n",
    "    self.update_param(pm, 'w', G_weight)\n",
    "    self.update_param(pm, 'b', G_bias)\n",
    "    \n",
    "    return G_input.reshape(x_org_shape)\n",
    "\n",
    "CnnBasicModel.backprop_full_layer = cnn_basic_backprop_full_layer"
   ]
  },
  {
   "cell_type": "markdown",
   "id": "df9f0e80",
   "metadata": {},
   "source": [
    "## 7.10.10 비선형 활성화 함수에 대한 순전파 및 역전파 메서드 정의"
   ]
  },
  {
   "cell_type": "code",
   "execution_count": 11,
   "id": "b3e66f98",
   "metadata": {},
   "outputs": [],
   "source": [
    "def cnn_basic_activate(self, affine, hconfig):\n",
    "    if hconfig is None: return affine\n",
    "    \n",
    "    func = get_conf_param(hconfig, 'actfunc', 'relu')\n",
    "    \n",
    "    if func == 'none':      return affine\n",
    "    elif func == 'relu':    return relu(affine)\n",
    "    elif func == 'sigmoid': return sigmoid(affine)\n",
    "    elif func == 'tanh':    return tanh(affine)\n",
    "    else:                   assert 0\n",
    "        \n",
    "def cnn_basic_activate_derv(self, G_y, y, hconfig):\n",
    "    if hconfig is None: return G_y\n",
    "    \n",
    "    func = get_conf_param(hconfig, 'actfunc', 'relu')\n",
    "    \n",
    "    if func == 'none':      return G_y\n",
    "    elif func == 'relu':    return relu_derv(y) * G_y\n",
    "    elif func == 'sigmoid': return sigmoid_derv(y) * G_y\n",
    "    elif func == 'tanh':    return tanh_derv(y) * G_y\n",
    "    else:                   assert 0 \n",
    "        \n",
    "CnnBasicModel.activate = cnn_basic_activate\n",
    "CnnBasicModel.activate_derv = cnn_basic_activate_derv"
   ]
  },
  {
   "cell_type": "markdown",
   "id": "6458bf77",
   "metadata": {},
   "source": [
    "## 7.10.11 합성곱 계층에 대한 원론적 순전파 처리 함수 정의"
   ]
  },
  {
   "cell_type": "code",
   "execution_count": 12,
   "id": "788709a2",
   "metadata": {},
   "outputs": [],
   "source": [
    "def forward_conv_layer_adhoc(self, x, hconfig, pm):\n",
    "    mb_size, xh, xw, xchn = x.shape\n",
    "    kh, kw, _, ychn = pm['k'].shape\n",
    "    \n",
    "    conv = np.zeros((mb_size, xh, xw, ychn))\n",
    "    \n",
    "    for n in range(mb_size):\n",
    "        for r in range(xh):\n",
    "            for c in range(xw):\n",
    "                for ym in range(ychn):\n",
    "                    for i in range(kh): # 대응하는 입력 픽셀값과 커널 가중치를 찾아 그 곱을 누적시킴\n",
    "                        for j in range(kw):\n",
    "                            rx = r + i - (kh-1) // 2 \n",
    "                            cx = c + j - (kw-1) // 2\n",
    "                            if rx < 0 or rx >= xh: continue\n",
    "                            if cx < 0 or cx >= xw: continue\n",
    "                            for xm in range(xchn):\n",
    "                                kval = pm['k'][i][j][xm][ym]\n",
    "                                ival = x[n][rx][cx][xm]\n",
    "                                conv[n][r][c][ym] += kval * ival\n",
    "    y = self.activate(conv + pm['b'], hconfig) # 4차원 텐서에 편향 벡터를 일괄적으로 더하는 방법\n",
    "    \n",
    "    return y, [x, y]"
   ]
  },
  {
   "cell_type": "markdown",
   "id": "2b411cb2",
   "metadata": {},
   "source": [
    "## 7.10.12 합성곱 계층에 대한 개선된 순전파 처리 함수 정의"
   ]
  },
  {
   "cell_type": "code",
   "execution_count": 13,
   "id": "a6a42266",
   "metadata": {},
   "outputs": [],
   "source": [
    "def forward_conv_layer_better(self, x, hconfig, pm):\n",
    "    mb_size, xh, xw, xchn = x.shape\n",
    "    kh, kw, _, ychn = pm['k'].shape\n",
    "    \n",
    "    conv = np.zeros((mb_size, xh, xw, ychn))\n",
    "    \n",
    "    bh, bw = (kh-1)//2, (kw-1)//2\n",
    "    eh, ew = xh + kh - 1, xw+ kw - 1\n",
    "    \n",
    "    x_ext = np.zeros((mb_size, eh, ew, xchn)) # 커널 크기를 고려해 확장된 x_ext 버퍼를 준비\n",
    "    x_ext[:, bh:bh + xh, bw:bw + xw, :] = x # 중앙 부분에 입력(x) 값을 복사\n",
    "    \n",
    "    k_flat = pm['k'].transpose([3, 0, 1, 2]).reshape([ychn, -1]) # 출력 채널 별로 커널의 나머지 세 차원을 한 차원 벡터로 차원 축소\n",
    "    \n",
    "    for n in range(mb_size):\n",
    "        for r in range(xh):\n",
    "            for c in range(xw):\n",
    "                for ym in range(ychn):\n",
    "                    xe_flat = x_ext[n, r:r + kh, c:c + kw, :].flatten()\n",
    "                    conv[n, r, c, ym] = (xe_flat * k_flat[ym]).sum()\n",
    "    y = self.activate(conv + pm['b'], hconfig)\n",
    "    \n",
    "    return y, [x, y]"
   ]
  },
  {
   "cell_type": "markdown",
   "id": "db9577da",
   "metadata": {},
   "source": [
    "## 7.10.13 합성곱 계층에 대한 순전파 메서드 정의"
   ]
  },
  {
   "cell_type": "code",
   "execution_count": 14,
   "id": "b35ae59a",
   "metadata": {},
   "outputs": [],
   "source": [
    "def cnn_basic_forward_conv_layer(self, x, hconfig, pm):\n",
    "    mb_size, xh, xw, xchn = x.shape\n",
    "    kh, kw, _, ychn = pm['k'].shape\n",
    "    \n",
    "    x_flat = get_ext_regions_for_conv(x, kh, kw)\n",
    "    k_flat = pm['k'].reshape([kh*kw*xchn, ychn])\n",
    "    conv_flat = np.matmul(x_flat, k_flat)\n",
    "    conv = conv_flat.reshape([mb_size, xh, xw, ychn])\n",
    "    \n",
    "    y = self.activate(conv + pm['b'], hconfig)\n",
    "    \n",
    "    if self.need_maps: self.maps.append(y)\n",
    "        \n",
    "    return y, [x_flat, k_flat, x, y]\n",
    "\n",
    "CnnBasicModel.forward_conv_layer = cnn_basic_forward_conv_layer"
   ]
  },
  {
   "cell_type": "markdown",
   "id": "bedf76dd",
   "metadata": {},
   "source": [
    "## 7.10.14 합성곱 계층에 대한 역전파 메서드 정의"
   ]
  },
  {
   "cell_type": "code",
   "execution_count": 15,
   "id": "5dabe9a2",
   "metadata": {},
   "outputs": [],
   "source": [
    "def cnn_basic_backprop_conv_layer(self, G_y, hconfig, pm, aux):\n",
    "    x_flat, k_flat, x, y = aux\n",
    "    \n",
    "    kh, kw, xchn, ychn = pm['k'].shape\n",
    "    mb_size, xh, xw, _ = G_y.shape\n",
    "    \n",
    "    G_conv = self.activate_derv(G_y, y, hconfig)\n",
    "    \n",
    "    G_conv_flat = G_conv.reshape(mb_size*xh,xw, ychn)\n",
    "    \n",
    "    g_conv_k_flat = x_flat.transpose()\n",
    "    g_conv_x_flat = k_flat.transpose()\n",
    "    \n",
    "    G_k_flat = np.matmul(g_conv_k_flat, G_conv_flat)\n",
    "    G_x_flat = np.matmul(G_conv_flat, g_conv_x_flat)\n",
    "    G_bias = np.sum(G_conv_flat, axis = 0)\n",
    "    \n",
    "    G_kernel = G_k_flat.reshape([kh, kw, xchn, ychn])\n",
    "    G_input = undo_ext_regions_for_conv(G_x_flat, x, kh, kw)\n",
    "    \n",
    "    self.update_param(pm, 'k', G_kernel)\n",
    "    self.update_param(pm, 'b', G_bias)\n",
    "    \n",
    "    return G_input\n",
    "\n",
    "CnnBasicModel.backprop_conv_layer = cnn_basic_backprop_conv_layer"
   ]
  },
  {
   "cell_type": "markdown",
   "id": "51fb1415",
   "metadata": {},
   "source": [
    "## 7.10.15 확장 영역 처리 함수 정의"
   ]
  },
  {
   "cell_type": "code",
   "execution_count": 16,
   "id": "ca5cc591",
   "metadata": {},
   "outputs": [],
   "source": [
    "def get_ext_regions_for_conv(x, kh, kw):\n",
    "    mb_size, xh, xw, xchn = x.shape\n",
    "    \n",
    "    regs = get_ext_regions(x, kh, kw, 0)\n",
    "    regs = regs.transpose([2, 0, 1, 3, 4, 5]) # 데이터 순서를 바꿈\n",
    "    \n",
    "    return regs.reshape([mb_size*xh*xw, kh*kw*xchn]) # 데이터 형태도 바꿔서 반환\n",
    "\n",
    "def get_ext_regions(x, kh, kw, fill): # 두 함수를 따로 분리하여 처리하는 이유: 나중에 확장된 풀링 연산을 지원할 때에도 이 기능이 필요함\n",
    "    mb_size, xh, xw, xchn = x.shape\n",
    "    \n",
    "    eh, ew = xh + kh - 1, xw + kw - 1\n",
    "    bh, bw = (kh-1)//2 ,(kw-1)//2\n",
    "    \n",
    "    x_ext = np.zeros((mb_size, eh, ew, xchn), dtype = 'float32') + fill # 확장된 풀링 연산에서는 0이 아닌 다른 값을 확장 영역에 채워야 함\n",
    "    x_ext[:, bh:bh + xh, bw:bw+ xw, :] = x\n",
    "    \n",
    "    regs = np.zeros((xh, xw, mb_size*kh*kw*xchn), dtype = 'float32') # 3차원 텐서를 준비\n",
    "    \n",
    "    for r in range(xh):\n",
    "        for c in rnage(xw):\n",
    "            regs[r, c, :] = x_ext[:, r:r + kh, c:c + kw, :].flatten() # 이미지의 픽셀 좌표별로 커널 크기의 인근 영역에 대해 미니배치\n",
    "                                        # 데이터 전체와 입력 채널 전체 등 4차원 공간에서 해당되는 원소를 찾아 일괄적으로 차원 축소시킴\n",
    "            \n",
    "    return regs.reshape([xh, xw, mb_size, kh, kw, xchn]) # 우선 데이터 순서를 유지한 채 텐서를 반환"
   ]
  },
  {
   "cell_type": "markdown",
   "id": "b774e698",
   "metadata": {},
   "source": [
    "## 7.10.16 확장 영역에 대한 역처리 함수 정의"
   ]
  },
  {
   "cell_type": "code",
   "execution_count": 17,
   "id": "1f89646c",
   "metadata": {},
   "outputs": [],
   "source": [
    "def undo_ext_regions_for_conv(regs, x, kh, kw):\n",
    "    mb_size, xh, xw, xchhn = x.shape\n",
    "    \n",
    "    regs = regs.reshape([mb_size, xh, xw, kh, kw, xchn])\n",
    "    regs = regs.transpose([1, 2, 0, 3, 4, 5]) # mb_size를 다시 세 번째 차원에 위치시킴\n",
    "    \n",
    "    return undo_ext_regions(regs, kh, kw)\n",
    "\n",
    "def undo_ext_regions(regs, kh, kw):\n",
    "    xh, xw, mb_size, kh, kw, xchn = regs.shape\n",
    "    \n",
    "    eh, ew = xh + kh - 1, xw + kw - 1\n",
    "    bh, bw = (kh-1)//2, (kw-1)//2\n",
    "    \n",
    "    gx_ext = np.zeros([mb_size, eh, ew, xchn], dtype = 'float32') # x_ext의 각 원소의 기울기 텐서\n",
    "    \n",
    "    for r in range(xh):\n",
    "        for c in range(xw):\n",
    "            gx_ext[:, r:r + kh, c:c + kw, :] += regs[r, c] # 순전파 때 여기저기 중복하여 이용되는 성분의 손실기울기를 더함\n",
    "    \n",
    "    return gx_ext[:, bh:bh + xh, bw:bw + xw, :]"
   ]
  },
  {
   "cell_type": "markdown",
   "id": "2527f244",
   "metadata": {},
   "source": [
    "## 7.10.17 평균치 풀링 계층에 대한 순전파와 역전파 메서드 정의"
   ]
  },
  {
   "cell_type": "code",
   "execution_count": 18,
   "id": "07d7a4bd",
   "metadata": {},
   "outputs": [
    {
     "ename": "NameError",
     "evalue": "name 'cnn_basic_back_prop_avg_layer' is not defined",
     "output_type": "error",
     "traceback": [
      "\u001b[1;31m---------------------------------------------------------------------------\u001b[0m",
      "\u001b[1;31mNameError\u001b[0m                                 Traceback (most recent call last)",
      "\u001b[1;32m~\\AppData\\Local\\Temp\\ipykernel_28912\\211644570.py\u001b[0m in \u001b[0;36m<module>\u001b[1;34m\u001b[0m\n\u001b[0;32m     33\u001b[0m \u001b[1;33m\u001b[0m\u001b[0m\n\u001b[0;32m     34\u001b[0m \u001b[0mCnnBasicModel\u001b[0m\u001b[1;33m.\u001b[0m\u001b[0mforward_avg_layer\u001b[0m \u001b[1;33m=\u001b[0m \u001b[0mcnn_basic_forward_avg_layer\u001b[0m\u001b[1;33m\u001b[0m\u001b[1;33m\u001b[0m\u001b[0m\n\u001b[1;32m---> 35\u001b[1;33m \u001b[0mCnnBasicModel\u001b[0m\u001b[1;33m.\u001b[0m\u001b[0mbackprop_avg_layer\u001b[0m \u001b[1;33m=\u001b[0m \u001b[0mcnn_basic_back_prop_avg_layer\u001b[0m\u001b[1;33m\u001b[0m\u001b[1;33m\u001b[0m\u001b[0m\n\u001b[0m",
      "\u001b[1;31mNameError\u001b[0m: name 'cnn_basic_back_prop_avg_layer' is not defined"
     ]
    }
   ],
   "source": [
    "def cnn_basic_forward_avg_layer(self, x, hconfig, pm):\n",
    "    mb_size, xh, xw, chn = x.shape\n",
    "    sh, sw = get_conf_param_2d(hconfig, 'stride')\n",
    "    yh, yw = xh // sh, xw // sw\n",
    "    \n",
    "    x1 = x.reshape([mb_size, yh, sh, yw, sw, chn])\n",
    "    x2 = x1.transpose(0, 1, 3, 5, 2, 4) # 보폭을 나타내는 sh, sw를 뒤로 뺌\n",
    "    x3 = x2.reshape([-1, sh*sw]) # 2차원으로 차원을 축소시킴\n",
    "    \n",
    "    y_flat = np.average(x3, 1)\n",
    "    y = y_flat.reshape([mb_size, yh, yw, chn])\n",
    "    \n",
    "    if self.need_maps: self.maps.append(y) \n",
    "    \n",
    "    return y, None # None?\n",
    "\n",
    "def cnn_basic_backprop_avg_layer(self, G_y, hconfig, pm, aux):\n",
    "    mb_size, yh, yw, chn = G_y.shape\n",
    "    sh, sw = get_conf_param_2d(hconfig, 'stride')\n",
    "    xh, xw = yh * sh, yw * sw\n",
    "    \n",
    "    gy_flat = G_y.flatten() / (sh * sw) # 평균 연산이므로 보폭의 곱으로 미리 나눔\n",
    "    \n",
    "    gx1 = np.zeros([mb_size*yh*yw*chn, sh*sw], dtype = 'float32') # 2차원 버퍼 생성\n",
    "    for i in range(sh*sw):\n",
    "        gx1[:, i] = gy_flat # 2차원 버퍼의 모든 행에 gy_flat (1 / (sh*sw))을 복사함\n",
    "    gx2 = gx1.reshape([mb_size, yh, yw, chn, sh, sw])\n",
    "    gx3 = gx2.transpose([0, 1, 4, 2, 5, 3])\n",
    "    \n",
    "    G_input = gx3.reshape([mb_size, xh. xw, chn])\n",
    "    \n",
    "    return G_input\n",
    "\n",
    "CnnBasicModel.forward_avg_layer = cnn_basic_forward_avg_layer\n",
    "CnnBasicModel.backprop_avg_layer = cnn_basic_back_prop_avg_layer"
   ]
  },
  {
   "cell_type": "markdown",
   "id": "88bc0044",
   "metadata": {},
   "source": [
    "## 7.10.18 최대치 풀링 계층에 대한 순전파와 역전파 메서드 정의"
   ]
  },
  {
   "cell_type": "code",
   "execution_count": 19,
   "id": "8218f20e",
   "metadata": {},
   "outputs": [],
   "source": [
    "def cnn_basic_forward_max_layer(self, x, hconfig, pm):\n",
    "    mb_size, xh, xw, chn = x.shape\n",
    "    sh, sw = get_conf_param_2d(hconfig, 'stride')\n",
    "    yh, yw = xh // sh, xw // sw\n",
    "    \n",
    "    x1 = x.reshape([mb_size, yh, sh, yw, sw, chn])\n",
    "    x2 = x1.transpose(0, 1, 3, 5, 2, 4)\n",
    "    x3 = x2.reshape([-1, sh*sw])\n",
    "    \n",
    "    idxs = np.argmax(x3, axis = 1)\n",
    "    y_flat = x3[np.arange(mb_size*yh*yw*chn), idxs]\n",
    "    y = y_flat.reshape([mb_size, yh, yw, chn])\n",
    "    \n",
    "    if self.need_maps: self.maps.append(y)\n",
    "        \n",
    "    return y, idxs #  idxs:역전파에서 사용할 최댓값 위치\n",
    "\n",
    "def cnn_basic_backprop_max_layer(self, G_y, hconfig, pm, aux):\n",
    "    idxs = aux\n",
    "    \n",
    "    mb_size, yh, yw, chn = G_y.shape\n",
    "    sh, sw = get_conf_param_2d(hconfig, 'stride')\n",
    "    xh, xw = yh * sh, yw * sw\n",
    "    \n",
    "    gy_flat = G_y.flatten()\n",
    "    \n",
    "    gx1 = np.zeros([mb_size*yh*yw*chn, sh*sw], dtype = 'float32')\n",
    "    gx1[np.arange(mb_size*yh*yw*chn), idxs] = gy_flat # gy_flat[:]에서 [:]을 빼면 안되는지 먼저 해보자\n",
    "    gx2 = gx1.reshape([mb_size, yh, yw, chn, sh, sw])\n",
    "    gx3 = gx2.transpose([0, 1, 4, 2, 5, 3])\n",
    "    \n",
    "    G_input = gx3.reshape([mb_size, xh, xw, chn])\n",
    "    \n",
    "    return G_input\n",
    "\n",
    "CnnBasicModel.forward_max_layer = cnn_basic_forward_max_layer\n",
    "CnnBasicModel.backprop_max_layer = cnn_basic_backprop_max_layer"
   ]
  },
  {
   "cell_type": "markdown",
   "id": "ebba6d8f",
   "metadata": {},
   "source": [
    "## 7.10.19 시각화 메서드 정의"
   ]
  },
  {
   "cell_type": "code",
   "execution_count": 21,
   "id": "daf738a7",
   "metadata": {},
   "outputs": [],
   "source": [
    "def cnn_basic_visualize(self, num):\n",
    "    print('Model {} Visualization'.format(self.name))\n",
    "    \n",
    "    self.need_maps = self.show_maps # show_maps(커널과 특징맵이 시각화 대상인지 여부)에 따라 need_maps 변수를 조절\n",
    "    self.maps = [] # mpas를 새로 초기화\n",
    "    \n",
    "    deX, deY = self.dataset.get_visualize_data(num)\n",
    "    est = self.get_estimate(deX)\n",
    "    \n",
    "    if self.show_maps:\n",
    "        for kernel in self.kernels:\n",
    "            kh, kw, xchn, ychn = kernel.shape\n",
    "            grids = kernel.reshape([kh, kw, -1]).transpose(2, 0, 1)\n",
    "            draw_images_horz(grids[0:5, :, :])\n",
    "            \n",
    "        for pmap in self.maps:\n",
    "            draw_images_horz(pmap[:, :, :, 0])\n",
    "            \n",
    "    self.dataset.visualize(deX, deY, deY)\n",
    "    \n",
    "    self.need_maps = False # need_maps를 False로 초기화\n",
    "    self.maps = None # maps를 None으로 초기화\n",
    "    \n",
    "CnnBasicModel.visualize = cnn_basic_visualize"
   ]
  }
 ],
 "metadata": {
  "kernelspec": {
   "display_name": "Python 3 (ipykernel)",
   "language": "python",
   "name": "python3"
  },
  "language_info": {
   "codemirror_mode": {
    "name": "ipython",
    "version": 3
   },
   "file_extension": ".py",
   "mimetype": "text/x-python",
   "name": "python",
   "nbconvert_exporter": "python",
   "pygments_lexer": "ipython3",
   "version": "3.7.13"
  }
 },
 "nbformat": 4,
 "nbformat_minor": 5
}
