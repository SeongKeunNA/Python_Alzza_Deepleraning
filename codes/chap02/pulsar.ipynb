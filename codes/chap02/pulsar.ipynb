{
 "cells": [
  {
   "cell_type": "markdown",
   "id": "e40d8383",
   "metadata": {},
   "source": [
    "## 1. 코드 재활용을 위한 아발로니 파일 실행시키기"
   ]
  },
  {
   "cell_type": "code",
   "execution_count": 2,
   "id": "5d682aa0",
   "metadata": {},
   "outputs": [],
   "source": [
    "%run ../chap01/abalone.ipynb"
   ]
  },
  {
   "cell_type": "markdown",
   "id": "e70598f9",
   "metadata": {},
   "source": [
    "## 2. 메인 함수 정의"
   ]
  },
  {
   "cell_type": "code",
   "execution_count": 3,
   "id": "dc62c040",
   "metadata": {},
   "outputs": [],
   "source": [
    "def pulsar_exec(epoch_count=10, mb_size=10, report=1):\n",
    "    load_pulsar_dataset()\n",
    "    init_model()\n",
    "    train_and_test(epoch_count, mb_size, report)"
   ]
  },
  {
   "cell_type": "markdown",
   "id": "7f3a4e88",
   "metadata": {},
   "source": [
    "## 3. 데이터 적재 함수의 정의"
   ]
  },
  {
   "cell_type": "code",
   "execution_count": 5,
   "id": "b359b8a9",
   "metadata": {},
   "outputs": [],
   "source": [
    "def load_pulsar_dataset():\n",
    "    with open('../../data/chap02/pulsar_stars.csv') as csvfile:\n",
    "        csvreader = csv.reader(csvfile)\n",
    "        next(csvreader, None)\n",
    "        row = []\n",
    "        for row in csvreader:\n",
    "            rows.append(row)\n",
    "    global data, input_cnt, output_cnt\n",
    "    input_cnt, output_cnt = 8, 1\n",
    "    data = np.asarray(rows, dtype='float32')"
   ]
  },
  {
   "cell_type": "markdown",
   "id": "7f300c01",
   "metadata": {},
   "source": [
    "## 4. 후처리 과정에 대한 순전파와 역전파 함수의 재정의"
   ]
  },
  {
   "cell_type": "code",
   "execution_count": 6,
   "id": "99073eee",
   "metadata": {},
   "outputs": [],
   "source": [
    "def forward_postproc(output, y):\n",
    "    entropy = simgmoid_cross_entropy_with_logits(y, output)\n",
    "    loss = np.mean(entropy)\n",
    "    return loss, [y, output, entropy]\n",
    "\n",
    "def backprop_postproc(G_loss, aux):\n",
    "    y, output, entropy = aux\n",
    "    \n",
    "    g_loss_entropy = 1.0 / np.prod(entropy.shape)\n",
    "    g_entropy_output = sigmoid_cross_entropy_with_logits_derv(y, output)\n",
    "    \n",
    "    G_entropy = g_loss_entropy * G_loss\n",
    "    G_output = g_entropy_output * G_entropy\n",
    "    \n",
    "    return G_output"
   ]
  },
  {
   "cell_type": "markdown",
   "id": "0eef40f3",
   "metadata": {},
   "source": [
    "## 5. 정확도 계산 함수의 재정의"
   ]
  },
  {
   "cell_type": "code",
   "execution_count": 7,
   "id": "d8e0d96f",
   "metadata": {},
   "outputs": [],
   "source": [
    "def eval_accuracy(output, y):\n",
    "    estimate = np.greater(output, 0) # output의 shape대로 0보다 큰 원소만 True, 나머지는 False 반환\n",
    "    answer = np.greater(y, 0.5)\n",
    "    correct = np.equal(estimate, answer) # estimate와 answer의 shape대로 원소 각각을 비교해 동일할 때 True, 다르면 False 반환\n",
    "    \n",
    "    return np.mean(correct)  # 정답(1)의 비율 반환"
   ]
  },
  {
   "cell_type": "markdown",
   "id": "5d4b30f0",
   "metadata": {},
   "source": [
    "## 6. 시그모이드 관련 함수 정의"
   ]
  },
  {
   "cell_type": "code",
   "execution_count": 12,
   "id": "ffb02966",
   "metadata": {},
   "outputs": [],
   "source": [
    "def relu(x):\n",
    "    return np.maximum(x, 0) # max가 아니라 maximum을 사용해야 0보다 작은 부분을 대치함\n",
    "\n",
    "def sigmoid(x):\n",
    "    return np.exp(-relu(-x)) / (1.0 + np.exp(-np.abs(x)))\n",
    "\n",
    "def sigmoid_derv(x, y):\n",
    "    return y * (1 - y)\n",
    "\n",
    "def sigmoid_cross_entropy_with_logits(z, x):\n",
    "    return relu(x) - x * z + np.log(1 + np.exp(-np.abs(x)))\n",
    "\n",
    "def sigmoid_cross_entropy_with_logits_derv(z, x):\n",
    "    return -z + sigmoid(x)"
   ]
  }
 ],
 "metadata": {
  "kernelspec": {
   "display_name": "Python 3 (ipykernel)",
   "language": "python",
   "name": "python3"
  },
  "language_info": {
   "codemirror_mode": {
    "name": "ipython",
    "version": 3
   },
   "file_extension": ".py",
   "mimetype": "text/x-python",
   "name": "python",
   "nbconvert_exporter": "python",
   "pygments_lexer": "ipython3",
   "version": "3.7.13"
  }
 },
 "nbformat": 4,
 "nbformat_minor": 5
}
