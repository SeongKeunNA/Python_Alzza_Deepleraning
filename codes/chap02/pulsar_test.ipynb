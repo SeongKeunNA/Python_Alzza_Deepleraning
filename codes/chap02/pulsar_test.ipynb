{
 "cells": [
  {
   "cell_type": "code",
   "execution_count": 2,
   "id": "3cbbdad1",
   "metadata": {},
   "outputs": [],
   "source": [
    "%run ../chap02/pulsar.ipynb"
   ]
  },
  {
   "cell_type": "code",
   "execution_count": 2,
   "id": "3c8c04f6",
   "metadata": {},
   "outputs": [
    {
     "name": "stdout",
     "output_type": "stream",
     "text": [
      "Epoch 1 loss=0.154. accuracy = 0.959/0.972\n",
      "Epoch 2 loss=0.131. accuracy = 0.966/0.972\n",
      "Epoch 3 loss=0.136. accuracy = 0.967/0.970\n",
      "Epoch 4 loss=0.133. accuracy = 0.968/0.970\n",
      "Epoch 5 loss=0.121. accuracy = 0.968/0.969\n",
      "Epoch 6 loss=0.145. accuracy = 0.968/0.974\n",
      "Epoch 7 loss=0.122. accuracy = 0.970/0.975\n",
      "Epoch 8 loss=0.127. accuracy = 0.970/0.976\n",
      "Epoch 9 loss=0.125. accuracy = 0.970/0.976\n",
      "Epoch 10 loss=0.134. accuracy = 0.968/0.976\n",
      "\n",
      "Final Test: final accuracy = 0.976\n"
     ]
    }
   ],
   "source": [
    "pulsar_exec()"
   ]
  },
  {
   "cell_type": "code",
   "execution_count": 3,
   "id": "7bc924f2",
   "metadata": {},
   "outputs": [
    {
     "name": "stdout",
     "output_type": "stream",
     "text": [
      "Epoch 1 loss=-40.303. accuracy = 0.999/1.000\n",
      "Epoch 2 loss=-120.419. accuracy = 1.000/1.000\n",
      "Epoch 3 loss=-200.331. accuracy = 1.000/1.000\n",
      "Epoch 4 loss=-280.241. accuracy = 1.000/1.000\n",
      "Epoch 5 loss=-360.151. accuracy = 1.000/1.000\n",
      "Epoch 6 loss=-440.061. accuracy = 1.000/1.000\n",
      "Epoch 7 loss=-519.971. accuracy = 1.000/1.000\n",
      "Epoch 8 loss=-599.882. accuracy = 1.000/1.000\n",
      "Epoch 9 loss=-679.792. accuracy = 1.000/1.000\n",
      "Epoch 10 loss=-759.703. accuracy = 1.000/1.000\n",
      "\n",
      "Final Test: final accuracy = 1.000\n"
     ]
    }
   ],
   "source": [
    "abalone_exec()"
   ]
  }
 ],
 "metadata": {
  "kernelspec": {
   "display_name": "Python 3 (ipykernel)",
   "language": "python",
   "name": "python3"
  },
  "language_info": {
   "codemirror_mode": {
    "name": "ipython",
    "version": 3
   },
   "file_extension": ".py",
   "mimetype": "text/x-python",
   "name": "python",
   "nbconvert_exporter": "python",
   "pygments_lexer": "ipython3",
   "version": "3.7.13"
  }
 },
 "nbformat": 4,
 "nbformat_minor": 5
}
