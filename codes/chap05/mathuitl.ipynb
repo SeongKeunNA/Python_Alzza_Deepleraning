{
 "cells": [
  {
   "cell_type": "markdown",
   "id": "ed2815b1",
   "metadata": {},
   "source": [
    "# 5.9 구현하기 : 수학 연산과 각종 부수적 기능"
   ]
  },
  {
   "cell_type": "markdown",
   "id": "af40b888",
   "metadata": {},
   "source": [
    "## 5.9.1 파이썬 모듈 불러들이기"
   ]
  },
  {
   "cell_type": "code",
   "execution_count": 3,
   "id": "8c349f7e",
   "metadata": {},
   "outputs": [],
   "source": [
    "import numpy as np\n",
    "import time\n",
    "import os\n",
    "import csv\n",
    "import copy # chap 9\n",
    "import wave # chap 11\n",
    "import cv2  # chap 12\n",
    "import matplotlib.pyplot as plt\n",
    "\n",
    "from PIL import Image\n",
    "from IPython.core.display import HTML # chap 14"
   ]
  },
  {
   "cell_type": "markdown",
   "id": "aec085e1",
   "metadata": {},
   "source": [
    "## 5.9.2 ReLU 관련 함수 정의"
   ]
  },
  {
   "cell_type": "code",
   "execution_count": 4,
   "id": "1460626c",
   "metadata": {},
   "outputs": [],
   "source": [
    "def relu(x):\n",
    "    return np.maximum(x, 0)\n",
    "\n",
    "def relu_derv(x):\n",
    "    return np.sign(y)"
   ]
  },
  {
   "cell_type": "markdown",
   "id": "ae029587",
   "metadata": {},
   "source": [
    "## 5.9.3 시그모이드 관련 함수 정의"
   ]
  },
  {
   "cell_type": "code",
   "execution_count": 1,
   "id": "fa2131fd",
   "metadata": {},
   "outputs": [],
   "source": [
    "def sigmoid(x):\n",
    "    return np.exp(-relu(-x)) / (1.0 + np.exp(-np.abs(x)))\n",
    "\n",
    "def sigmoid_derv(y):\n",
    "    return y * (1 - y)\n",
    "\n",
    "def sigmoid_cross_entropy_with_logits(z, x):\n",
    "    return relu(x) - x * z + np.log(1 + np.exp(-np.abs(x)))\n",
    "\n",
    "def sigmoid_cross_entropy_with_logits_derv(z, x):\n",
    "    return -z + sigmoid(x)"
   ]
  },
  {
   "cell_type": "markdown",
   "id": "dc584df7",
   "metadata": {},
   "source": [
    "## 5.9.4 쌍곡탄젠트 관련 함수 정의"
   ]
  },
  {
   "cell_type": "code",
   "execution_count": 2,
   "id": "ae40f5d6",
   "metadata": {},
   "outputs": [],
   "source": [
    "def tanh(x):\n",
    "    return 2 * sigmoid(2*x) - 1\n",
    "\n",
    "def tanh_derv(y):\n",
    "    return (1.0 + y) * (1.0 - y)"
   ]
  },
  {
   "cell_type": "markdown",
   "id": "7b9ebf0e",
   "metadata": {},
   "source": [
    "## 5.9.5 소프트맥스 관련 함수 정의"
   ]
  },
  {
   "cell_type": "code",
   "execution_count": 3,
   "id": "5e031e3b",
   "metadata": {},
   "outputs": [],
   "source": [
    "def softmax(x):\n",
    "    max_elem = na.max(x, axis = 1)\n",
    "    diff = (x.transpose() - max_elem).transpose()\n",
    "    exp = np.exp(diff)\n",
    "    sum_exp = np.sum(exp, axis=1)\n",
    "    probs = (exp.transpose() / sum_exp).transpose()\n",
    "    return probs\n",
    "\n",
    "def softmax_cross_entropy_with_logits(labels, logits):\n",
    "    probs = softmax(logits)\n",
    "    return -np.sum(labels * np.log(probs+1.0e-10), axis=1)"
   ]
  },
  {
   "cell_type": "markdown",
   "id": "708ce8ec",
   "metadata": {},
   "source": [
    "## 5.9.6 csv 파일 읽기"
   ]
  },
  {
   "cell_type": "code",
   "execution_count": 4,
   "id": "6c226341",
   "metadata": {},
   "outputs": [],
   "source": [
    "def load_csv(path, skip_header=True):\n",
    "    with open(path) as csvfile:\n",
    "        csvreader = csv.reader(csvfile)\n",
    "        headers = None\n",
    "        if skip_header: headers = next(csvreader, None)\n",
    "        rows = []\n",
    "        for row in csvreader:\n",
    "            rows.append(row)\n",
    "    return rows, headers"
   ]
  },
  {
   "cell_type": "markdown",
   "id": "5e2594c9",
   "metadata": {},
   "source": [
    "## 5.9.7 벡터 처리 지원 함수의 정의"
   ]
  },
  {
   "cell_type": "code",
   "execution_count": 5,
   "id": "d835845c",
   "metadata": {},
   "outputs": [],
   "source": [
    "def onehot(xs, cnt):\n",
    "    return np.eye(cnt)[np.array(xs).astype(int)] # np.eye(cnt)[xs]라고 쓰면 오류 발생 가능성 생김\n",
    "\n",
    "def vector_to_str(x, fmt='%.2f', max_cnt = 0):\n",
    "    if max_cnt == 0 or len(x) <= max_cnt:\n",
    "        return '[' + ','.join([fmt]*len(x)) % tuple(x) + ']' # 포멧팅 표현\n",
    "    v = v[0:max_cnt]\n",
    "    return '[' + ','.join([fmt]*len(v)) % tuple(v) + ',...]'"
   ]
  },
  {
   "cell_type": "markdown",
   "id": "00ac1bfb",
   "metadata": {},
   "source": [
    "## 5.9.8 이미지 입출력 함수의 정의"
   ]
  },
  {
   "cell_type": "code",
   "execution_count": 6,
   "id": "03e09dd5",
   "metadata": {},
   "outputs": [],
   "source": [
    "def load_image_pixels(imagepath, resolution, input_shape):\n",
    "    img = Image.open(imagepath)\n",
    "    resized = img.resize(resolution)\n",
    "    return np.array(resized).reshape(input_shape)\n",
    "\n",
    "def draw_images_horz(xs, image_shape=None):\n",
    "    show_cnt = len(xs)\n",
    "    fig, axes = plt.subplots(1, show_cnt, figsize=(5,5))\n",
    "    for n in range(show_cnt):\n",
    "        img = xs[n]\n",
    "        if image_shape:\n",
    "            x3d = img.reshape(image_shape)\n",
    "            img = Image.fromarray(np.uni8(x3d)) # Image.fromarray(): Numpy array to PIL Image / np.unit8 (): 부호없는 정수 (0 ~ 255)\n",
    "        axes[n].imshow(img)\n",
    "        axes[n].axis('off') # 축과 라벨을 없앤다.\n",
    "    plt.draw()\n",
    "    plt.show()"
   ]
  },
  {
   "cell_type": "markdown",
   "id": "70bbf883",
   "metadata": {},
   "source": [
    "## 5.9.9 선택 분류 결과 출력 함수의 정의"
   ]
  },
  {
   "cell_type": "code",
   "execution_count": 7,
   "id": "a6d9efba",
   "metadata": {},
   "outputs": [],
   "source": [
    "def show_select_results(est, ans, target_names, max_cnt = 0):\n",
    "    for n in range(len(est)):\n",
    "        pstr = vector_to_str(100 * est[n], '%2.0f', max_cnt)\n",
    "        estr = target_names[np.argmax(est[n])]\n",
    "        astr = target_names[np.argmax(ast[n])]\n",
    "        rstr = 'O'\n",
    "        if estr != astr: rstr = 'X'\n",
    "        print('추정확률 분포 {} => 추정 {} : 정답 {} => {}'.\n",
    "             format(pstr, estr,astr, rstr))"
   ]
  },
  {
   "cell_type": "markdown",
   "id": "1b3982d2",
   "metadata": {},
   "source": [
    "## 5.9.10 폴더 정보 읽기 함수의 정의"
   ]
  },
  {
   "cell_type": "code",
   "execution_count": null,
   "id": "62ea9f6c",
   "metadata": {},
   "outputs": [],
   "source": [
    "def list_dir(path):\n",
    "    filenames = os.listdir(path)\n",
    "    filenames.sort() # 리눅스에서는 자동 정렬되지 않으므로\n",
    "    return filenames "
   ]
  }
 ],
 "metadata": {
  "kernelspec": {
   "display_name": "Python 3 (ipykernel)",
   "language": "python",
   "name": "python3"
  },
  "language_info": {
   "codemirror_mode": {
    "name": "ipython",
    "version": 3
   },
   "file_extension": ".py",
   "mimetype": "text/x-python",
   "name": "python",
   "nbconvert_exporter": "python",
   "pygments_lexer": "ipython3",
   "version": "3.7.13"
  }
 },
 "nbformat": 4,
 "nbformat_minor": 5
}
