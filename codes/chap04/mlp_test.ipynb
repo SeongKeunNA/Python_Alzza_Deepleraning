{
 "cells": [
  {
   "cell_type": "markdown",
   "id": "a536117f",
   "metadata": {},
   "source": [
    "## 1. 전복 고리수 추정 문제"
   ]
  },
  {
   "cell_type": "code",
   "execution_count": 1,
   "id": "7ba62d72",
   "metadata": {},
   "outputs": [
    {
     "name": "stdout",
     "output_type": "stream",
     "text": [
      "은닉 계층 0개를 갖는 다층 퍼셉트론이 작동되었습니다.\n",
      "Epoch 1 loss=33.707. accuracy = 0.554/0.816\n",
      "Epoch 2 loss=8.238. accuracy = 0.818/0.818\n",
      "Epoch 3 loss=7.597. accuracy = 0.810/0.815\n",
      "Epoch 4 loss=7.487. accuracy = 0.809/0.812\n",
      "Epoch 5 loss=7.405. accuracy = 0.808/0.813\n",
      "Epoch 6 loss=7.335. accuracy = 0.808/0.813\n",
      "Epoch 7 loss=7.272. accuracy = 0.809/0.811\n",
      "Epoch 8 loss=7.222. accuracy = 0.807/0.813\n",
      "Epoch 9 loss=7.175. accuracy = 0.808/0.814\n",
      "Epoch 10 loss=7.133. accuracy = 0.809/0.813\n",
      "\n",
      "Final Test: final accuracy = 0.813\n"
     ]
    }
   ],
   "source": [
    "%run ../chap01/abalone.ipynb\n",
    "%run ../chap04/mlp.ipynb\n",
    "set_hidden([])\n",
    "abalone_exec()"
   ]
  },
  {
   "cell_type": "code",
   "execution_count": 3,
   "id": "937f1767",
   "metadata": {},
   "outputs": [
    {
     "name": "stdout",
     "output_type": "stream",
     "text": [
      "은닉 계층 하나를 갖는 다층 퍼셉트론이 작동되었습니다.\n",
      "Epoch 10 loss=7.892. accuracy = 0.806/0.813\n",
      "Epoch 20 loss=8.534. accuracy = 0.798/0.804\n",
      "Epoch 30 loss=6.711. accuracy = 0.814/0.806\n",
      "Epoch 40 loss=5.760. accuracy = 0.830/0.809\n",
      "Epoch 50 loss=5.148. accuracy = 0.837/0.840\n",
      "\n",
      "Final Test: final accuracy = 0.840\n"
     ]
    }
   ],
   "source": [
    "set_hidden(4)\n",
    "abalone_exec(epoch_count=50, report=10)"
   ]
  },
  {
   "cell_type": "code",
   "execution_count": null,
   "id": "5babd983",
   "metadata": {},
   "outputs": [],
   "source": [
    "# 왜 어떤 경우에 loss가 갑자기 100 이상으로 상승하고 단층 퍼셉트론보다 최종 결과가 안 좋은지?"
   ]
  },
  {
   "cell_type": "code",
   "execution_count": 6,
   "id": "36f1d6c3",
   "metadata": {},
   "outputs": [
    {
     "name": "stdout",
     "output_type": "stream",
     "text": [
      "은닉 계층 2개를 갖는 다층 퍼셉트론이 작동되었습니다.\n",
      "Epoch 20 loss=6.046. accuracy = 0.814/0.824\n",
      "Epoch 40 loss=4.891. accuracy = 0.832/0.836\n",
      "Epoch 60 loss=4.865. accuracy = 0.835/0.848\n",
      "Epoch 80 loss=4.790. accuracy = 0.837/0.844\n",
      "Epoch 100 loss=4.760. accuracy = 0.838/0.840\n",
      "\n",
      "Final Test: final accuracy = 0.840\n"
     ]
    }
   ],
   "source": [
    "set_hidden([3,3])\n",
    "abalone_exec(epoch_count=100, report=20)"
   ]
  },
  {
   "cell_type": "markdown",
   "id": "ac6fdacd",
   "metadata": {},
   "source": [
    "## 2. 천체 펄서 판정 문제"
   ]
  },
  {
   "cell_type": "code",
   "execution_count": 7,
   "id": "cca7038b",
   "metadata": {},
   "outputs": [
    {
     "name": "stdout",
     "output_type": "stream",
     "text": [
      "은닉 계층 하나를 갖는 다층 퍼셉트론이 작동되었습니다.\n",
      "Epoch 10 loss=0.094. accuracy = 0.972/0.972\n",
      "Epoch 20 loss=0.091. accuracy = 0.973/0.974\n",
      "Epoch 30 loss=0.091. accuracy = 0.973/0.974\n",
      "Epoch 40 loss=0.088. accuracy = 0.975/0.975\n",
      "Epoch 50 loss=0.086. accuracy = 0.974/0.975\n",
      "\n",
      "Final Test: final accuracy = 0.975\n"
     ]
    }
   ],
   "source": [
    "%run ../chap02/pulsar.ipynb\n",
    "%run ../chap04/mlp.ipynb\n",
    "set_hidden(6)\n",
    "pulsar_exec(epoch_count=50, report=10)"
   ]
  },
  {
   "cell_type": "code",
   "execution_count": 8,
   "id": "b3ae82c1",
   "metadata": {},
   "outputs": [
    {
     "name": "stdout",
     "output_type": "stream",
     "text": [
      "은닉 계층 1개를 갖는 다층 퍼셉트론이 작동되었습니다.\n",
      "Epoch 10 loss=0.090. accuracy = 0.973/0.969\n",
      "Epoch 20 loss=0.087. accuracy = 0.974/0.969\n",
      "Epoch 30 loss=0.085. accuracy = 0.975/0.973\n",
      "Epoch 40 loss=0.083. accuracy = 0.976/0.972\n",
      "Epoch 50 loss=0.083. accuracy = 0.976/0.972\n",
      "\n",
      "Final Test: final accuracy = 0.972\n"
     ]
    }
   ],
   "source": [
    "set_hidden([6])\n",
    "pulsar_exec(epoch_count=50, report=10)"
   ]
  },
  {
   "cell_type": "code",
   "execution_count": 9,
   "id": "287d92a1",
   "metadata": {},
   "outputs": [
    {
     "name": "stdout",
     "output_type": "stream",
     "text": [
      "은닉 계층 1개를 갖는 다층 퍼셉트론이 작동되었습니다.\n",
      "Epoch 10 loss=0.094. accuracy = 0.972/0.972\n",
      "Epoch 20 loss=0.091. accuracy = 0.973/0.974\n",
      "Epoch 30 loss=0.091. accuracy = 0.973/0.974\n",
      "Epoch 40 loss=0.089. accuracy = 0.974/0.974\n",
      "Epoch 50 loss=0.089. accuracy = 0.974/0.975\n",
      "\n",
      "Final Test: final accuracy = 0.975\n"
     ]
    }
   ],
   "source": [
    "%run ../chap02/pulsar.ipynb\n",
    "%run ../chap04/mlp.ipynb\n",
    "set_hidden([6])\n",
    "pulsar_exec(epoch_count=50, report=10)"
   ]
  },
  {
   "cell_type": "code",
   "execution_count": 11,
   "id": "ac594845",
   "metadata": {},
   "outputs": [
    {
     "name": "stdout",
     "output_type": "stream",
     "text": [
      "은닉 계층 2개를 갖는 다층 퍼셉트론이 작동되었습니다.\n",
      "Epoch 40 loss=0.087. accuracy = 0.975/0.970\n",
      "Epoch 80 loss=0.083. accuracy = 0.977/0.972\n",
      "Epoch 120 loss=0.081. accuracy = 0.977/0.969\n",
      "Epoch 160 loss=0.081. accuracy = 0.977/0.972\n",
      "Epoch 200 loss=0.080. accuracy = 0.976/0.972\n",
      "\n",
      "Final Test: final accuracy = 0.972\n"
     ]
    }
   ],
   "source": [
    "set_hidden([12, 6])\n",
    "pulsar_exec(epoch_count=200, report=40)"
   ]
  },
  {
   "cell_type": "code",
   "execution_count": 12,
   "id": "cc4506b8",
   "metadata": {},
   "outputs": [
    {
     "name": "stdout",
     "output_type": "stream",
     "text": [
      "은닉 계층 2개를 갖는 다층 퍼셉트론이 작동되었습니다.\n",
      "Epoch 40: loss = 0.108, result = 0.091,0.950,0.750,0.838\n",
      "Epoch 80: loss = 0.096, result = 0.091,0.957,0.750,0.841\n",
      "Epoch 120: loss = 0.092, result = 0.091,0.934,0.774,0.847\n",
      "Epoch 160: loss = 0.090, result = 0.091,0.934,0.780,0.850\n",
      "Epoch 200: loss = 0.089, result = 0.091,0.951,0.768,0.850\n",
      "\n",
      "Final Test: final result = 0.091,0.951,0.768,0.850\n"
     ]
    }
   ],
   "source": [
    "%run ../chap02/pulsar_ext.ipynb\n",
    "%run ../chap04/mlp.ipynb\n",
    "set_hidden([12, 6])\n",
    "pulsar_exec(epoch_count=200, report=40)"
   ]
  },
  {
   "cell_type": "code",
   "execution_count": 13,
   "id": "77a30ee9",
   "metadata": {},
   "outputs": [
    {
     "name": "stdout",
     "output_type": "stream",
     "text": [
      "은닉 계층 하나를 갖는 다층 퍼셉트론이 작동되었습니다.\n",
      "Epoch 10: loss = 0.093, result = 0.089,0.947,0.724,0.821\n",
      "Epoch 20: loss = 0.089, result = 0.089,0.955,0.724,0.824\n",
      "Epoch 30: loss = 0.087, result = 0.089,0.926,0.781,0.847\n",
      "Epoch 40: loss = 0.086, result = 0.089,0.926,0.787,0.851\n",
      "Epoch 50: loss = 0.085, result = 0.089,0.953,0.762,0.847\n",
      "\n",
      "Final Test: final result = 0.089,0.953,0.762,0.847\n"
     ]
    }
   ],
   "source": [
    "%run ../chap02/pulsar_ext.ipynb\n",
    "%run ../chap04/mlp.ipynb\n",
    "set_hidden(6)\n",
    "pulsar_exec(epoch_count=50, report=10)"
   ]
  },
  {
   "cell_type": "code",
   "execution_count": null,
   "id": "de62d7f5",
   "metadata": {},
   "outputs": [],
   "source": [
    "# 은닉 계층을 늘리고 학습 횟수를 늘렸지만 오히려 성능 하락"
   ]
  },
  {
   "cell_type": "markdown",
   "id": "068a6dd2",
   "metadata": {},
   "source": [
    "## 3. 철판 재료의 불량 판별 문제"
   ]
  },
  {
   "cell_type": "code",
   "execution_count": 1,
   "id": "c8343a4c",
   "metadata": {},
   "outputs": [
    {
     "name": "stdout",
     "output_type": "stream",
     "text": [
      "은닉 계층 하나를 갖는 다층 퍼셉트론이 작동되었습니다.\n",
      "Epoch 10 loss=1.946. accuracy = 0.078/0.095\n",
      "Epoch 20 loss=1.946. accuracy = 0.078/0.095\n",
      "Epoch 30 loss=1.946. accuracy = 0.078/0.095\n",
      "Epoch 40 loss=1.946. accuracy = 0.078/0.095\n",
      "Epoch 50 loss=1.946. accuracy = 0.078/0.095\n",
      "\n",
      "Final Test: final accuracy = 0.095\n"
     ]
    }
   ],
   "source": [
    "%run ../chap03/steel.ipynb\n",
    "%run ../chap04/mlp.ipynb\n",
    "set_hidden(10)\n",
    "steel_exec(epoch_count=50, report=10)"
   ]
  },
  {
   "cell_type": "code",
   "execution_count": 2,
   "id": "042169bb",
   "metadata": {},
   "outputs": [
    {
     "name": "stdout",
     "output_type": "stream",
     "text": [
      "은닉 계층 3개를 갖는 다층 퍼셉트론이 작동되었습니다.\n",
      "Epoch 10 loss=1.855. accuracy = 0.346/0.350\n",
      "Epoch 20 loss=1.795. accuracy = 0.346/0.350\n",
      "Epoch 30 loss=1.758. accuracy = 0.346/0.350\n",
      "Epoch 40 loss=1.735. accuracy = 0.346/0.350\n",
      "Epoch 50 loss=1.721. accuracy = 0.346/0.350\n",
      "\n",
      "Final Test: final accuracy = 0.350\n"
     ]
    }
   ],
   "source": [
    "set_hidden([12, 6, 4])\n",
    "steel_exec(epoch_count=50, report=10)"
   ]
  },
  {
   "cell_type": "code",
   "execution_count": 3,
   "id": "cdd22f55",
   "metadata": {},
   "outputs": [
    {
     "name": "stdout",
     "output_type": "stream",
     "text": [
      "은닉 계층 3개를 갖는 다층 퍼셉트론이 작동되었습니다.\n",
      "Epoch 10 loss=1.856. accuracy = 0.337/0.384\n",
      "Epoch 20 loss=1.796. accuracy = 0.337/0.384\n",
      "Epoch 30 loss=1.759. accuracy = 0.337/0.384\n",
      "Epoch 40 loss=1.736. accuracy = 0.337/0.384\n",
      "Epoch 50 loss=1.721. accuracy = 0.337/0.384\n",
      "\n",
      "Final Test: final accuracy = 0.384\n"
     ]
    }
   ],
   "source": [
    "LEARING_RATE = 0.0001\n",
    "hidden_config = [12, 6, 4]\n",
    "steel_exec(epoch_count=50, report=10)"
   ]
  },
  {
   "cell_type": "code",
   "execution_count": null,
   "id": "5a2fb57b",
   "metadata": {},
   "outputs": [],
   "source": []
  }
 ],
 "metadata": {
  "kernelspec": {
   "display_name": "Python 3 (ipykernel)",
   "language": "python",
   "name": "python3"
  },
  "language_info": {
   "codemirror_mode": {
    "name": "ipython",
    "version": 3
   },
   "file_extension": ".py",
   "mimetype": "text/x-python",
   "name": "python",
   "nbconvert_exporter": "python",
   "pygments_lexer": "ipython3",
   "version": "3.7.13"
  }
 },
 "nbformat": 4,
 "nbformat_minor": 5
}
